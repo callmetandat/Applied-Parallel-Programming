{
 "cells": [
  {
   "cell_type": "code",
   "execution_count": 1,
   "metadata": {},
   "outputs": [],
   "source": [
    "import torch.nn as nn\n",
    "from model_numba.Layers.Layers import *\n",
    "import numpy as np\n",
    "from torchvision import transforms\n",
    "from model_numba.unet_cuda import Double_Conv, Unet_Cuda\n",
    "from PIL import Image\n",
    "import torch\n",
    "import time\n",
    "from numba import cuda"
   ]
  },
  {
   "cell_type": "code",
   "execution_count": 2,
   "metadata": {},
   "outputs": [
    {
     "name": "stdout",
     "output_type": "stream",
     "text": [
      "(500, 300)\n"
     ]
    },
    {
     "data": {
      "text/plain": [
       "torch.Size([1, 3, 512, 512])"
      ]
     },
     "execution_count": 2,
     "metadata": {},
     "output_type": "execute_result"
    }
   ],
   "source": [
    "transform = transforms.Compose(\n",
    "    [\n",
    "        transforms.Resize((512, 512)),\n",
    "        transforms.ToTensor()\n",
    "    ]\n",
    ")\n",
    "image = Image.open('test.jpg')\n",
    "print(image.size)\n",
    "image = transform(image).unsqueeze(0)\n",
    "image.shape"
   ]
  },
  {
   "cell_type": "code",
   "execution_count": 3,
   "metadata": {},
   "outputs": [],
   "source": [
    "from model.unet import U_net\n",
    "model = U_net(1).eval()\n",
    "weight = torch.load('weights/weights.pth')\n",
    "model.load_state_dict(weight)\n",
    "\n",
    "numba_model = Unet_Cuda(1).eval()"
   ]
  },
  {
   "cell_type": "code",
   "execution_count": 4,
   "metadata": {},
   "outputs": [],
   "source": [
    "out = model(image)"
   ]
  },
  {
   "cell_type": "code",
   "execution_count": 5,
   "metadata": {},
   "outputs": [],
   "source": [
    "def batch_norm_2d(x, gamma, beta, mean, var, eps=1e-5):\n",
    "    \"\"\"\n",
    "    Perform 2D Batch Normalization on NCHW formatted data using provided mean and variance.\n",
    "    This implementation is purely sequential and avoids multiprocessing.\n",
    "    \n",
    "    Parameters:\n",
    "    - x: Input data of shape (N, C, H, W)\n",
    "    - gamma: Scale parameter of shape (C,)\n",
    "    - beta: Shift parameter of shape (C,)\n",
    "    - mean: Provided mean of shape (C,)\n",
    "    - var: Provided variance of shape (C,)\n",
    "    - eps: Small constant for numerical stability\n",
    "    \n",
    "    Returns:\n",
    "    - Normalized data of shape (N, C, H, W)\n",
    "    \"\"\"\n",
    "    # Initialize output tensor\n",
    "    N, C, H, W = x.shape\n",
    "    out = np.zeros_like(x)\n",
    "    \n",
    "    # Normalize each channel sequentially\n",
    "    for c in range(C):\n",
    "        for n in range(N):\n",
    "            for h in range(H):\n",
    "                for w in range(W):\n",
    "                    x_normalized = (x[n, c, h, w] - mean[c]) / np.sqrt(var[c] + eps)\n",
    "                    out[n, c, h, w] = gamma[c] * x_normalized + beta[c]\n",
    "    \n",
    "    return out"
   ]
  },
  {
   "cell_type": "code",
   "execution_count": 6,
   "metadata": {},
   "outputs": [
    {
     "name": "stdout",
     "output_type": "stream",
     "text": [
      "Cpu Runtime: 0.7149941921234131\n",
      "Numba Runtime: 0.22329187393188477\n",
      "Mean Difference:  0.000000\n"
     ]
    }
   ],
   "source": [
    "N =1\n",
    "C = 3 \n",
    "H = 512 \n",
    "W = 512\n",
    "\n",
    "input = np.random.uniform(-2.0, 2.0, (N,C,H,W))\n",
    "weight = np.random.uniform(0.0, 1.0, (C))\n",
    "bias = np.random.uniform(0.0, 1.0, (C))\n",
    "mean = np.random.uniform(0.0, 1.0, (C))\n",
    "var = np.random.uniform(0.0, 1.0, (C))\n",
    "start = time.time()\n",
    "out_cpu = batch_norm_2d(input, weight, bias, mean, var)\n",
    "end = time.time()\n",
    "\n",
    "print(f'Cpu Runtime: {end - start}')\n",
    "\n",
    "start = time.time()\n",
    "out_numba = batchNorm2D(input, weight, bias, mean, var)\n",
    "end = time.time()\n",
    "print(f'Numba Runtime: {end - start}')\n",
    "\n",
    "print(f'Mean Difference: {np.mean(np.abs(out_cpu - out_numba)) : .6f}')\n"
   ]
  }
 ],
 "metadata": {
  "kernelspec": {
   "display_name": "Python 3",
   "language": "python",
   "name": "python3"
  },
  "language_info": {
   "codemirror_mode": {
    "name": "ipython",
    "version": 3
   },
   "file_extension": ".py",
   "mimetype": "text/x-python",
   "name": "python",
   "nbconvert_exporter": "python",
   "pygments_lexer": "ipython3",
   "version": "3.11.0"
  }
 },
 "nbformat": 4,
 "nbformat_minor": 2
}
