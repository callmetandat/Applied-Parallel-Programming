{
 "cells": [
  {
   "cell_type": "code",
   "execution_count": 1,
   "metadata": {},
   "outputs": [],
   "source": [
    "import torch.nn as nn\n",
    "from model_numba.Layers.Layers import batchNorm2D, Convolution2D_GPU\n",
    "import numpy as np\n",
    "from torchvision import transforms\n",
    "from model_numba.unet_cuda import Double_Conv, Unet_Cuda\n",
    "from PIL import Image\n",
    "import torch\n",
    "import time\n",
    "from numba import cuda"
   ]
  },
  {
   "cell_type": "code",
   "execution_count": 2,
   "metadata": {},
   "outputs": [
    {
     "data": {
      "text/plain": [
       "torch.Size([1, 3, 512, 512])"
      ]
     },
     "execution_count": 2,
     "metadata": {},
     "output_type": "execute_result"
    }
   ],
   "source": [
    "transform = transforms.Compose(\n",
    "    [\n",
    "        transforms.Resize((512, 512)),\n",
    "        transforms.ToTensor()\n",
    "    ]\n",
    ")\n",
    "image = Image.open('test.jpg')\n",
    "image = transform(image).unsqueeze(0)\n",
    "image.shape"
   ]
  },
  {
   "cell_type": "code",
   "execution_count": 3,
   "metadata": {},
   "outputs": [],
   "source": [
    "from model.unet import U_net\n",
    "model = U_net(1).cuda().eval()\n",
    "weight = torch.load('weights/weights.pth')\n",
    "model.load_state_dict(weight)\n",
    "\n",
    "numba_model = Unet_Cuda(1)"
   ]
  },
  {
   "cell_type": "code",
   "execution_count": 4,
   "metadata": {},
   "outputs": [
    {
     "name": "stdout",
     "output_type": "stream",
     "text": [
      "Torch Runtime: 0.2398977279663086 s\n",
      "Numba Runtime: 0.8706598281860352 s\n",
      "Mean Difference:  0.000045\n",
      "Max Difference:  0.001294\n"
     ]
    }
   ],
   "source": [
    "\n",
    "start = time.time()\n",
    "out = model(image.cuda())\n",
    "end = time.time()\n",
    "\n",
    "print(f'Torch Runtime: {end- start} s')\n",
    "\n",
    "start = time.time()\n",
    "out_numba = numba_model(image.cpu().detach().numpy())\n",
    "end = time.time()\n",
    "\n",
    "print(f'Numba Runtime: {end- start} s')\n",
    "\n",
    "mean = np.mean(np.abs(model.d5.cpu().detach().numpy()- numba_model.d5.copy_to_host()))\n",
    "max = np.max(np.abs(model.d5.cpu().detach().numpy()- numba_model.d5.copy_to_host()))\n",
    "print(f'Mean Difference: {mean : .6f}')\n",
    "print(f'Max Difference: {max: .6f}')"
   ]
  }
 ],
 "metadata": {
  "kernelspec": {
   "display_name": "Python 3",
   "language": "python",
   "name": "python3"
  },
  "language_info": {
   "codemirror_mode": {
    "name": "ipython",
    "version": 3
   },
   "file_extension": ".py",
   "mimetype": "text/x-python",
   "name": "python",
   "nbconvert_exporter": "python",
   "pygments_lexer": "ipython3",
   "version": "3.11.0"
  }
 },
 "nbformat": 4,
 "nbformat_minor": 2
}
